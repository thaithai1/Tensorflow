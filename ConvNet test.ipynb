{
 "cells": [
  {
   "cell_type": "code",
   "execution_count": 41,
   "metadata": {},
   "outputs": [],
   "source": [
    "from ConvNet import *\n",
    "from utils import *\n",
    "import tensorflow as tf\n",
    "import numpy as np\n",
    "import matplotlib.pyplot as plt\n",
    "%matplotlib inline\n",
    "%load_ext autoreload\n",
    "%autoreload 2"
   ]
  },
  {
   "cell_type": "markdown",
   "metadata": {},
   "source": [
    "## I. Dataset"
   ]
  },
  {
   "cell_type": "code",
   "execution_count": 30,
   "metadata": {},
   "outputs": [
    {
     "name": "stdout",
     "output_type": "stream",
     "text": [
      "Input train dimension (60000, 28, 28)\n",
      "Input test dimension (10000, 28, 28)\n",
      "Output train dimension (60000,)\n",
      "Output test dimension (10000,)\n"
     ]
    },
    {
     "data": {
      "image/png": "[encoded data removed]",
      "text/plain": [
       "<Figure size 864x576 with 5 Axes>"
      ]
     },
     "metadata": {},
     "output_type": "display_data"
    }
   ],
   "source": [
    "mnist = tf.keras.datasets.mnist\n",
    "(X_train_ori, y_train_ori),(X_test_ori, y_test_ori) = mnist.load_data()\n",
    "\n",
    "idx =np.random.permutation(X_train_ori.shape[0])\n",
    "plt.figure(figsize = (12,8))\n",
    "for i in range(5):\n",
    "    plt.subplot(1,5,i+1)\n",
    "    plt.title(f'label : {y_train_ori[idx[i]]}')\n",
    "    plt.imshow(X_train_ori[idx[i]]/255)\n",
    "\n",
    "print(f'Input train dimension {X_train_ori.shape}')\n",
    "print(f'Input test dimension {X_test_ori.shape}')\n",
    "print(f'Output train dimension {y_train_ori.shape}')\n",
    "print(f'Output test dimension {y_test_ori.shape}')"
   ]
  },
  {
   "cell_type": "code",
   "execution_count": 49,
   "metadata": {},
   "outputs": [],
   "source": [
    "#Normalization\n",
    "X_train_norm = X_train_ori /255.\n",
    "X_test_norm = X_test_ori /255.\n",
    "X_train = np.transpose(X_train_norm,(1, 2, 0))\n",
    "X_test = np.transpose(X_test_ori,(1, 2, 0))\n",
    "\n",
    "#One hot encoding\n",
    "y_train = one_hot_encode(y_train_ori,10).T\n",
    "y_test = one_hot_encode(y_test_ori, 10).T"
   ]
  },
  {
   "cell_type": "markdown",
   "metadata": {},
   "source": [
    "## II.ConvNet model "
   ]
  },
  {
   "cell_type": "code",
   "execution_count": null,
   "metadata": {
    "collapsed": true
   },
   "outputs": [],
   "source": []
  }
 ],
 "metadata": {
  "kernelspec": {
   "display_name": "Python 3",
   "language": "python",
   "name": "python3"
  },
  "language_info": {
   "codemirror_mode": {
    "name": "ipython",
    "version": 3
   },
   "file_extension": ".py",
   "mimetype": "text/x-python",
   "name": "python",
   "nbconvert_exporter": "python",
   "pygments_lexer": "ipython3",
   "version": "3.6.3"
  }
 },
 "nbformat": 4,
 "nbformat_minor": 2
}
